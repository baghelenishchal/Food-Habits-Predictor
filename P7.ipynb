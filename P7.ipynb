{
 "cells": [
  {
   "cell_type": "code",
   "execution_count": 1,
   "metadata": {},
   "outputs": [],
   "source": [
    "import numpy as np\n",
    "import pandas as pd\n",
    "eps = np.finfo(float).eps\n",
    "from numpy import log2 as log"
   ]
  },
  {
   "cell_type": "code",
   "execution_count": 2,
   "metadata": {},
   "outputs": [],
   "source": [
    "dataset = {'Taste':['Salty','Spicy','Spicy','Spicy','Spicy','Sweet','Salty','Sweet','Spicy','Salty'],\n",
    "       'Temperature':['Hot','Hot','Hot','Cold','Hot','Cold','Cold','Hot','Cold','Hot'],\n",
    "       'Texture':['Soft','Soft','Hard','Hard','Hard','Soft','Soft','Soft','Soft','Hard'],\n",
    "       'Eat':['No','No','Yes','No','Yes','Yes','No','Yes','Yes','Yes']}"
   ]
  },
  {
   "cell_type": "code",
   "execution_count": 39,
   "metadata": {},
   "outputs": [],
   "source": [
    "X_test=[[0,1,1],[2,0,1]]"
   ]
  },
  {
   "cell_type": "code",
   "execution_count": 43,
   "metadata": {},
   "outputs": [
    {
     "name": "stdout",
     "output_type": "stream",
     "text": [
      "   Taste Temperature Texture  Eat\n",
      "0  Salty         Hot    Soft   No\n",
      "1  Spicy         Hot    Soft   No\n",
      "2  Spicy         Hot    Hard  Yes\n",
      "3  Spicy        Cold    Hard   No\n",
      "4  Spicy         Hot    Hard  Yes\n"
     ]
    }
   ],
   "source": [
    "\n",
    "df = pd.DataFrame(dataset,columns=['Taste','Temperature','Texture','Eat'])\n",
    "print(df.head())"
   ]
  },
  {
   "cell_type": "code",
   "execution_count": 32,
   "metadata": {},
   "outputs": [],
   "source": [
    "df.to_csv('/Users/lucky/Desktop/bhule/P7.csv',index=False)"
   ]
  },
  {
   "cell_type": "code",
   "execution_count": 33,
   "metadata": {},
   "outputs": [],
   "source": [
    "df['Taste'].replace(to_replace=['Salty','Spicy','Sweet'], value=[0,1,2],inplace=True)\n",
    "df['Temperature'].replace(to_replace=['Hot','Cold'], value=[0,1],inplace=True)\n",
    "df['Texture'].replace(to_replace=['Soft','Hard'], value=[0,1],inplace=True)\n",
    "df['Eat'].replace(to_replace=['No','Yes'], value=[0,1],inplace=True)\n"
   ]
  },
  {
   "cell_type": "code",
   "execution_count": 42,
   "metadata": {},
   "outputs": [
    {
     "name": "stdout",
     "output_type": "stream",
     "text": [
      "   Taste  Temperature  Texture\n",
      "0      0            0        0\n",
      "1      1            0        0\n",
      "2      1            0        1\n",
      "3      1            1        1\n",
      "4      1            0        1\n",
      "5      2            1        0\n",
      "6      0            1        0\n",
      "7      2            0        0\n",
      "8      1            1        0\n",
      "9      0            0        1\n"
     ]
    }
   ],
   "source": [
    "X=(df[['Taste','Temperature','Texture']])\n",
    "print(X)"
   ]
  },
  {
   "cell_type": "code",
   "execution_count": 35,
   "metadata": {},
   "outputs": [
    {
     "name": "stdout",
     "output_type": "stream",
     "text": [
      "[0 0 1 0 1 1 0 1 1 1]\n"
     ]
    }
   ],
   "source": [
    "y=np.array(df['Eat'])\n",
    "print(y)"
   ]
  },
  {
   "cell_type": "code",
   "execution_count": 5,
   "metadata": {},
   "outputs": [],
   "source": [
    "entropy_node = 0  #Initialize Entropy\n",
    "values = df.Eat.unique()  #Unique objects - 'Yes', 'No'\n",
    "for value in values:\n",
    "    fraction = df.Eat.value_counts()[value]/len(df.Eat)  \n",
    "    entropy_node += -fraction*np.log2(fraction)"
   ]
  },
  {
   "cell_type": "code",
   "execution_count": 6,
   "metadata": {},
   "outputs": [],
   "source": [
    "attribute = 'Taste'\n",
    "target_variables = df.Eat.unique()  #This gives all 'Yes' and 'No'\n",
    "variables = df[attribute].unique()    #This gives different features in that attribute (like 'Sweet')\n",
    "entropy_attribute = 0\n",
    "for variable in variables:\n",
    "    entropy_each_feature = 0\n",
    "    for target_variable in target_variables:\n",
    "        num = len(df[attribute][df[attribute]==variable][df.Eat ==target_variable]) #numerator\n",
    "        den = len(df[attribute][df[attribute]==variable])  #denominator\n",
    "        fraction = num/(den+eps)  #pi\n",
    "        entropy_each_feature += -fraction*log(fraction+eps) #This calculates entropy for one feature like 'Sweet'\n",
    "    fraction2 = den/len(df)\n",
    "    entropy_attribute += -fraction2*entropy_each_feature   #Sums up all the entropy ETaste"
   ]
  },
  {
   "cell_type": "code",
   "execution_count": 46,
   "metadata": {},
   "outputs": [
    {
     "data": {
      "text/plain": [
       "DecisionTreeClassifier(class_weight=None, criterion='entropy', max_depth=3,\n",
       "            max_features=None, max_leaf_nodes=None,\n",
       "            min_impurity_decrease=0.0, min_impurity_split=None,\n",
       "            min_samples_leaf=1, min_samples_split=2,\n",
       "            min_weight_fraction_leaf=0.0, presort=False, random_state=None,\n",
       "            splitter='best')"
      ]
     },
     "execution_count": 46,
     "metadata": {},
     "output_type": "execute_result"
    }
   ],
   "source": [
    "from sklearn.tree import DecisionTreeClassifier\n",
    "drugTree = DecisionTreeClassifier(criterion=\"entropy\", max_depth = 3)\n",
    "drugTree # it shows the default parameters"
   ]
  },
  {
   "cell_type": "code",
   "execution_count": 47,
   "metadata": {},
   "outputs": [
    {
     "name": "stdout",
     "output_type": "stream",
     "text": [
      "predicted value using decision tree model is [0 1]\n"
     ]
    }
   ],
   "source": [
    "drugTree.fit(X,y)\n",
    "predTree = drugTree.predict(X_test)\n",
    "print(\"predicted value using decision tree model is\",predTree)"
   ]
  },
  {
   "cell_type": "code",
   "execution_count": null,
   "metadata": {},
   "outputs": [],
   "source": []
  }
 ],
 "metadata": {
  "kernelspec": {
   "display_name": "Python 3",
   "language": "python",
   "name": "python3"
  },
  "language_info": {
   "codemirror_mode": {
    "name": "ipython",
    "version": 3
   },
   "file_extension": ".py",
   "mimetype": "text/x-python",
   "name": "python",
   "nbconvert_exporter": "python",
   "pygments_lexer": "ipython3",
   "version": "3.7.0"
  }
 },
 "nbformat": 4,
 "nbformat_minor": 2
}
